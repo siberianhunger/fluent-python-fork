{
 "cells": [
  {
   "cell_type": "code",
   "execution_count": 1,
   "id": "f7b0bdbf-70a6-46b5-a72c-7dbd24af09cf",
   "metadata": {},
   "outputs": [
    {
     "name": "stdout",
     "output_type": "stream",
     "text": [
      "10\n"
     ]
    }
   ],
   "source": [
    "from random import choice"
   ]
  },
  {
   "cell_type": "code",
   "execution_count": 10,
   "id": "821d8d1f-e390-4ee5-9e9a-c0ee2b8fd7fd",
   "metadata": {},
   "outputs": [],
   "source": [
    "class GetItemTest:\n",
    "    def __init__(self):\n",
    "        self.some_iter = [1,2,3]\n",
    "    def __getitem__(self, index):\n",
    "        return self.some_iter[index]\n",
    "    def __iter__(self):\n",
    "        return choice(self.some_iter)\n"
   ]
  },
  {
   "cell_type": "code",
   "execution_count": 4,
   "id": "f606a9e4-25e4-4923-b2d9-bea1c8513cc9",
   "metadata": {},
   "outputs": [],
   "source": [
    "a = GetItemTest()\n"
   ]
  },
  {
   "cell_type": "code",
   "execution_count": 5,
   "id": "210674a0-81d1-4783-b55d-fbcea7991b8e",
   "metadata": {},
   "outputs": [
    {
     "data": {
      "text/plain": [
       "[]"
      ]
     },
     "execution_count": 5,
     "metadata": {},
     "output_type": "execute_result"
    }
   ],
   "source": [
    "import inspect\n",
    "inspect.getmembers(GetItemTest, predicate=inspect.ismethod)"
   ]
  },
  {
   "cell_type": "code",
   "execution_count": 6,
   "id": "fe7018ed-6445-4e3e-beb2-274c48d01913",
   "metadata": {},
   "outputs": [],
   "source": [
    "method_list = [func for func in dir(GetItemTest) if callable(getattr(GetItemTest, func))]"
   ]
  },
  {
   "cell_type": "code",
   "execution_count": 7,
   "id": "ac98aacf-d27c-4c5d-8f32-bf3e06f52e09",
   "metadata": {},
   "outputs": [
    {
     "name": "stdout",
     "output_type": "stream",
     "text": [
      "['__class__', '__delattr__', '__dir__', '__eq__', '__format__', '__ge__', '__getattribute__', '__getitem__', '__getstate__', '__gt__', '__hash__', '__init__', '__init_subclass__', '__le__', '__lt__', '__ne__', '__new__', '__reduce__', '__reduce_ex__', '__repr__', '__setattr__', '__sizeof__', '__str__', '__subclasshook__']\n"
     ]
    }
   ],
   "source": [
    "print(method_list)"
   ]
  },
  {
   "cell_type": "code",
   "execution_count": 8,
   "id": "38e64ef4-d737-4fd1-accd-07b6e5675b67",
   "metadata": {},
   "outputs": [
    {
     "name": "stdout",
     "output_type": "stream",
     "text": [
      "['__class__', '__delattr__', '__dict__', '__dir__', '__doc__', '__eq__', '__format__', '__ge__', '__getattribute__', '__getitem__', '__getstate__', '__gt__', '__hash__', '__init__', '__init_subclass__', '__le__', '__lt__', '__module__', '__ne__', '__new__', '__reduce__', '__reduce_ex__', '__repr__', '__setattr__', '__sizeof__', '__str__', '__subclasshook__', '__weakref__']\n"
     ]
    }
   ],
   "source": [
    "print(dir(GetItemTest))"
   ]
  },
  {
   "cell_type": "code",
   "execution_count": 13,
   "id": "158c0a92-e62e-4aab-84e5-9cf0acbd9eda",
   "metadata": {},
   "outputs": [
    {
     "name": "stdout",
     "output_type": "stream",
     "text": [
      "1\n",
      "2\n",
      "3\n"
     ]
    }
   ],
   "source": [
    "for i in a:\n",
    "    print(i)"
   ]
  },
  {
   "cell_type": "code",
   "execution_count": 2,
   "id": "b240579b-c0a4-4966-a44c-5ed43ebbe6ea",
   "metadata": {},
   "outputs": [],
   "source": [
    "import math\n",
    "\n",
    "class Vector:\n",
    "\n",
    "    def __init__(self, x=0, y=0):\n",
    "        self.x = x\n",
    "        self.y = y\n",
    "\n",
    "    def __repr__(self):\n",
    "        return 'Vector(%r, %r)' % (self.x, self.y)\n",
    "\n",
    "    def __abs__(self):\n",
    "        return math.hypot(self.x, self.y)\n",
    "\n",
    "    def __bool__(self):\n",
    "        return bool(abs(self))\n",
    "\n",
    "    def __add__(self, other):\n",
    "        x = self.x + other.x\n",
    "        y = self.y + other.y\n",
    "        return Vector(x, y)\n",
    "\n",
    "    def __mul__(self, scalar):\n",
    "        return Vector(self.x * scalar, self.y * scalar)"
   ]
  },
  {
   "cell_type": "code",
   "execution_count": 4,
   "id": "a29591b2-b69c-4c34-8314-f85e51f20e79",
   "metadata": {},
   "outputs": [],
   "source": [
    "vec = Vector(1,7)\n"
   ]
  },
  {
   "cell_type": "code",
   "execution_count": 5,
   "id": "e2c84d8f-866c-4cd9-a072-ab9b8834b2bc",
   "metadata": {},
   "outputs": [
    {
     "name": "stdout",
     "output_type": "stream",
     "text": [
      "True\n"
     ]
    }
   ],
   "source": [
    "print(bool(vec))"
   ]
  },
  {
   "cell_type": "code",
   "execution_count": 6,
   "id": "55cc25b7-7894-4dcc-843f-321b6ca7fcd1",
   "metadata": {},
   "outputs": [
    {
     "name": "stdout",
     "output_type": "stream",
     "text": [
      "7.0710678118654755\n"
     ]
    }
   ],
   "source": [
    "print(abs(vec))"
   ]
  }
 ],
 "metadata": {
  "kernelspec": {
   "display_name": "Python 3 (ipykernel)",
   "language": "python",
   "name": "python3"
  },
  "language_info": {
   "codemirror_mode": {
    "name": "ipython",
    "version": 3
   },
   "file_extension": ".py",
   "mimetype": "text/x-python",
   "name": "python",
   "nbconvert_exporter": "python",
   "pygments_lexer": "ipython3",
   "version": "3.11.1"
  }
 },
 "nbformat": 4,
 "nbformat_minor": 5
}
