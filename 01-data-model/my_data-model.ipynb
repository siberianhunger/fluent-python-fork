{
 "cells": [
  {
   "cell_type": "code",
   "execution_count": 1,
   "id": "f7b0bdbf-70a6-46b5-a72c-7dbd24af09cf",
   "metadata": {},
   "outputs": [
    {
     "name": "stdout",
     "output_type": "stream",
     "text": [
      "10\n"
     ]
    }
   ],
   "source": [
    "from random import choice"
   ]
  },
  {
   "cell_type": "code",
   "execution_count": 10,
   "id": "821d8d1f-e390-4ee5-9e9a-c0ee2b8fd7fd",
   "metadata": {},
   "outputs": [],
   "source": [
    "class GetItemTest:\n",
    "    def __init__(self):\n",
    "        self.some_iter = [1,2,3]\n",
    "    def __getitem__(self, index):\n",
    "        return self.some_iter[index]\n",
    "\n",
    "    def __iter__(self):\n",
    "        return choice(self.some_iter)\n"
   ]
  },
  {
   "cell_type": "code",
   "execution_count": 4,
   "id": "f606a9e4-25e4-4923-b2d9-bea1c8513cc9",
   "metadata": {},
   "outputs": [],
   "source": [
    "a = GetItemTest()\n"
   ]
  },
  {
   "cell_type": "code",
   "execution_count": 5,
   "id": "210674a0-81d1-4783-b55d-fbcea7991b8e",
   "metadata": {},
   "outputs": [
    {
     "data": {
      "text/plain": [
       "[]"
      ]
     },
     "execution_count": 5,
     "metadata": {},
     "output_type": "execute_result"
    }
   ],
   "source": [
    "import inspect\n",
    "inspect.getmembers(GetItemTest, predicate=inspect.ismethod)"
   ]
  },
  {
   "cell_type": "code",
   "execution_count": 6,
   "id": "fe7018ed-6445-4e3e-beb2-274c48d01913",
   "metadata": {},
   "outputs": [],
   "source": [
    "method_list = [func for func in dir(GetItemTest) if callable(getattr(GetItemTest, func))]"
   ]
  },
  {
   "cell_type": "code",
   "execution_count": 7,
   "id": "ac98aacf-d27c-4c5d-8f32-bf3e06f52e09",
   "metadata": {},
   "outputs": [
    {
     "name": "stdout",
     "output_type": "stream",
     "text": [
      "['__class__', '__delattr__', '__dir__', '__eq__', '__format__', '__ge__', '__getattribute__', '__getitem__', '__getstate__', '__gt__', '__hash__', '__init__', '__init_subclass__', '__le__', '__lt__', '__ne__', '__new__', '__reduce__', '__reduce_ex__', '__repr__', '__setattr__', '__sizeof__', '__str__', '__subclasshook__']\n"
     ]
    }
   ],
   "source": [
    "print(method_list)"
   ]
  },
  {
   "cell_type": "code",
   "execution_count": 8,
   "id": "38e64ef4-d737-4fd1-accd-07b6e5675b67",
   "metadata": {},
   "outputs": [
    {
     "name": "stdout",
     "output_type": "stream",
     "text": [
      "['__class__', '__delattr__', '__dict__', '__dir__', '__doc__', '__eq__', '__format__', '__ge__', '__getattribute__', '__getitem__', '__getstate__', '__gt__', '__hash__', '__init__', '__init_subclass__', '__le__', '__lt__', '__module__', '__ne__', '__new__', '__reduce__', '__reduce_ex__', '__repr__', '__setattr__', '__sizeof__', '__str__', '__subclasshook__', '__weakref__']\n"
     ]
    }
   ],
   "source": [
    "print(dir(GetItemTest))"
   ]
  },
  {
   "cell_type": "code",
   "execution_count": 13,
   "id": "158c0a92-e62e-4aab-84e5-9cf0acbd9eda",
   "metadata": {},
   "outputs": [
    {
     "name": "stdout",
     "output_type": "stream",
     "text": [
      "1\n",
      "2\n",
      "3\n"
     ]
    }
   ],
   "source": [
    "for i in a:\n",
    "    print(i)"
   ]
  },
  {
   "cell_type": "code",
   "execution_count": 16,
   "id": "062113ad-7b39-4c7b-a9b2-00387b5093d1",
   "metadata": {},
   "outputs": [
    {
     "ename": "TypeError",
     "evalue": "object of type 'GetItemTest' has no len()",
     "output_type": "error",
     "traceback": [
      "\u001b[0;31m---------------------------------------------------------------------------\u001b[0m",
      "\u001b[0;31mTypeError\u001b[0m                                 Traceback (most recent call last)",
      "Cell \u001b[0;32mIn[16], line 1\u001b[0m\n\u001b[0;32m----> 1\u001b[0m \u001b[38;5;28;01mfor\u001b[39;00m i \u001b[38;5;129;01min\u001b[39;00m \u001b[38;5;28;43mreversed\u001b[39;49m\u001b[43m(\u001b[49m\u001b[43ma\u001b[49m\u001b[43m)\u001b[49m:\n\u001b[1;32m      2\u001b[0m     \u001b[38;5;28mprint\u001b[39m(i)\n",
      "\u001b[0;31mTypeError\u001b[0m: object of type 'GetItemTest' has no len()"
     ]
    }
   ],
   "source": [
    "for i in reversed(a):\n",
    "    print(i)"
   ]
  },
  {
   "cell_type": "code",
   "execution_count": null,
   "id": "b240579b-c0a4-4966-a44c-5ed43ebbe6ea",
   "metadata": {},
   "outputs": [],
   "source": []
  }
 ],
 "metadata": {
  "kernelspec": {
   "display_name": "Python 3 (ipykernel)",
   "language": "python",
   "name": "python3"
  },
  "language_info": {
   "codemirror_mode": {
    "name": "ipython",
    "version": 3
   },
   "file_extension": ".py",
   "mimetype": "text/x-python",
   "name": "python",
   "nbconvert_exporter": "python",
   "pygments_lexer": "ipython3",
   "version": "3.11.1"
  }
 },
 "nbformat": 4,
 "nbformat_minor": 5
}
